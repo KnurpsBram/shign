{
 "cells": [
  {
   "cell_type": "code",
   "execution_count": null,
   "id": "afc79ba1",
   "metadata": {},
   "outputs": [],
   "source": [
    "import os \n",
    "import sys \n",
    "sys.path.insert(0, '../')\n",
    "\n",
    "import librosa\n",
    "from matplotlib import pyplot as plt\n",
    "\n",
    "import shign"
   ]
  },
  {
   "cell_type": "code",
   "execution_count": null,
   "id": "10c02eda",
   "metadata": {
    "scrolled": false
   },
   "outputs": [],
   "source": [
    "# audio_a, sr_a = librosa.load(\"example1_audioA.wav\", sr=None)\n",
    "# audio_b, sr_b = librosa.load(\"example1_audioB.wav\", sr=None)\n",
    "audio_a, sr_a = librosa.load(\"example2_audioA.wav\", sr=None)\n",
    "audio_b, sr_b = librosa.load(\"example2_audioB.wav\", sr=None)\n",
    "\n",
    "plt.plot(audio_a, label='a')\n",
    "plt.plot(audio_b, label='b')\n",
    "plt.legend()\n",
    "plt.show()\n",
    "\n",
    "audio_a, audio_b = shign.shift_align(\n",
    "    audio_a = audio_a, \n",
    "    audio_b = audio_b, \n",
    "    sr_a    = sr_a, \n",
    "    sr_b    = sr_b, \n",
    "    align_how = \"pad_and_crop_one_to_match_other\", \n",
    "#     align_how = \"crop_both\",\n",
    "    min_overlap_sec=1.\n",
    ")\n",
    "\n",
    "plt.plot(audio_a, label='a')\n",
    "plt.plot(audio_b, label='b')\n",
    "plt.legend()\n",
    "plt.show()"
   ]
  },
  {
   "cell_type": "code",
   "execution_count": null,
   "id": "b824ec96",
   "metadata": {},
   "outputs": [],
   "source": []
  }
 ],
 "metadata": {
  "kernelspec": {
   "display_name": "Python 3 (ipykernel)",
   "language": "python",
   "name": "python3"
  },
  "language_info": {
   "codemirror_mode": {
    "name": "ipython",
    "version": 3
   },
   "file_extension": ".py",
   "mimetype": "text/x-python",
   "name": "python",
   "nbconvert_exporter": "python",
   "pygments_lexer": "ipython3",
   "version": "3.9.9"
  }
 },
 "nbformat": 4,
 "nbformat_minor": 5
}
